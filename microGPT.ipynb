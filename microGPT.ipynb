{
 "cells": [
  {
   "cell_type": "markdown",
   "id": "1ae46420-d2d2-4fcb-ab1b-cf751e74b952",
   "metadata": {},
   "source": [
    "## Task\n",
    "Fine-tune the GPT-2 model from Hugging Face using LoRA based on the data in \"/content/train.jsonl\" and \"/content/miniGPT.txt\"."
   ]
  },
  {
   "cell_type": "markdown",
   "id": "14eca747-56a6-4c32-927e-1fb654ce7eed",
   "metadata": {},
   "source": [
    "## Install necessary libraries\n",
    "### Subtask:\n",
    "Install libraries like transformers and peft for model handling and LoRA."
   ]
  },
  {
   "cell_type": "code",
   "execution_count": null,
   "id": "ef8d18f5-eb35-4116-9a31-9aaf2dc10ea4",
   "metadata": {},
   "outputs": [],
   "source": [
    "%pip install transformers peft datasets gradio"
   ]
  },
  {
   "cell_type": "markdown",
   "id": "0a505903-5e77-4919-9a5e-29dcf3b7f0c9",
   "metadata": {},
   "source": [
    "## Load and preprocess the data\n",
    "### Subtask:\n",
    "Load the data from \"/content/train.jsonl\" and \"/content/miniGPT.txt\" and prepare it for training, which may involve tokenization and formatting."
   ]
  },
  {
   "cell_type": "code",
   "execution_count": null,
   "id": "daafda08-b6d3-4a01-b2fc-f86f23ae43d2",
   "metadata": {},
   "outputs": [],
   "source": [
    "import pandas as pd\n",
    "from datasets import Dataset\n",
    "from transformers import AutoTokenizer\n",
    "\n",
    "# Load data from train.jsonl\n",
    "df_jsonl = pd.read_json('/content/train.jsonl', lines=True)\n",
    "# Combine prompt and response into text field\n",
    "df_jsonl['text'] = df_jsonl['prompt'] + ' ' + df_jsonl['response']\n",
    "\n",
    "# Load data from miniGPT.txt\n",
    "with open('/content/miniGPT.txt', 'r') as f:\n",
    "    text_data = [line.strip() for line in f if line.strip()]\n",
    "df_txt = pd.DataFrame(text_data, columns=['text'])\n",
    "\n",
    "# Combine the data\n",
    "combined_df = pd.concat([df_jsonl[['text']], df_txt], ignore_index=True)\n",
    "\n",
    "# Filter out empty text\n",
    "combined_df = combined_df[combined_df['text'].str.len() > 0]\n",
    "\n",
    "# Convert to Hugging Face Dataset\n",
    "dataset = Dataset.from_pandas(combined_df)\n",
    "\n",
    "# Load GPT-2 tokenizer\n",
    "tokenizer = AutoTokenizer.from_pretrained(\"gpt2\")\n",
    "tokenizer.pad_token = tokenizer.eos_token\n",
    "\n",
    "# Tokenize the dataset\n",
    "def tokenize_function(examples):\n",
    "    return tokenizer(examples[\"text\"], padding=\"max_length\", truncation=True, max_length=128)\n",
    "\n",
    "tokenized_datasets = dataset.map(tokenize_function, batched=True)\n",
    "print(f'Total examples: {len(tokenized_datasets)}')\n",
    "print(tokenized_datasets[0])"
   ]
  },
  {
   "cell_type": "code",
   "execution_count": null,
   "id": "71b2ad37-3b95-48d5-8ce4-5bea270e31b6",
   "metadata": {},
   "outputs": [],
   "source": [
    "# Create labels\n",
    "tokenized_datasets = tokenized_datasets.map(lambda examples: {'labels': examples['input_ids']}, batched=True)\n",
    "\n",
    "# Split the dataset into training and validation sets\n",
    "train_test_split = tokenized_datasets.train_test_split(test_size=0.1)\n",
    "train_dataset = train_test_split['train']\n",
    "eval_dataset = train_test_split['test']\n",
    "\n",
    "# Print information about the datasets\n",
    "print(\"Training dataset size:\", len(train_dataset))\n",
    "print(\"Validation dataset size:\", len(eval_dataset))\n",
    "\n",
    "# Display the first example of the training dataset\n",
    "print(train_dataset[0])"
   ]
  },
  {
   "cell_type": "markdown",
   "id": "f71ffe77-2ca0-4365-9966-047b9c08e196",
   "metadata": {},
   "source": [
    "## Load the pre-trained gpt-2 model\n",
    "\n",
    "### Subtask:\n",
    "Load the GPT-2 model from Hugging Face."
   ]
  },
  {
   "cell_type": "code",
   "execution_count": null,
   "id": "0e069c7a-4839-4812-b6ea-dbd0553d928e",
   "metadata": {},
   "outputs": [],
   "source": [
    "from transformers import AutoModelForCausalLM\n",
    "\n",
    "tokenizer = AutoTokenizer.from_pretrained(\"openai-community/gpt2\")\n",
    "model = AutoModelForCausalLM.from_pretrained(\"openai-community/gpt2\")"
   ]
  },
  {
   "cell_type": "markdown",
   "id": "e2943353-9206-4d49-9838-91855abcef38",
   "metadata": {},
   "source": [
    "Configure lora\n",
    "Subtask:\n",
    "Set up the LoRA configuration for fine-tuning the GPT-2 model."
   ]
  },
  {
   "cell_type": "code",
   "execution_count": null,
   "id": "cd58f1b5-b7e1-4347-921b-851bac6e5ebd",
   "metadata": {},
   "outputs": [],
   "source": [
    "from peft import LoraConfig\n",
    "\n",
    "lora_config = LoraConfig(\n",
    "    r=8, # Rank\n",
    "    lora_alpha=32, # Scaling factor\n",
    "    lora_dropout=0.1, # Dropout rate\n",
    "    bias=\"none\", # Bias type\n",
    "    task_type=\"CAUSAL_LM\", # Task type\n",
    ")"
   ]
  },
  {
   "cell_type": "markdown",
   "id": "fbd10971-0fc7-4a7d-9cf5-fa80f1571cd8",
   "metadata": {},
   "source": [
    "## Prepare the model for lora\n",
    "### Subtask:\n",
    "Integrate the LoRA adapters into the GPT-2 model."
   ]
  },
  {
   "cell_type": "code",
   "execution_count": null,
   "id": "b989cb36-543c-49a0-beb2-e407d3305896",
   "metadata": {},
   "outputs": [],
   "source": [
    "from peft import get_peft_model\n",
    "\n",
    "peft_model = get_peft_model(model, lora_config)\n",
    "print(peft_model.print_trainable_parameters())"
   ]
  },
  {
   "cell_type": "markdown",
   "id": "a760496e-d966-417e-82a9-db336e96ef68",
   "metadata": {},
   "source": [
    "## Define training arguments\n",
    "### Subtask:\n",
    "Set up the parameters for the training process, such as epochs, batch size, learning rate, etc."
   ]
  },
  {
   "cell_type": "code",
   "execution_count": null,
   "id": "d13e01c7-b1fd-4c92-b2a9-c9d6ccc63ded",
   "metadata": {},
   "outputs": [],
   "source": [
    "from transformers import TrainingArguments\n",
    "\n",
    "training_args = TrainingArguments(\n",
    "    output_dir=\"./lora_gpt2_finetuned\",  # Output directory\n",
    "    num_train_epochs=3,  # Number of training epochs\n",
    "    per_device_train_batch_size=4,  # Batch size for training\n",
    "    per_device_eval_batch_size=4,  # Batch size for evaluation\n",
    "    learning_rate=2e-4,  # Learning rate\n",
    "    weight_decay=0.01, # Weight decay\n",
    "    logging_dir=\"./logs\", # Logging directory\n",
    "    logging_steps=10, # Log every 10 steps\n",
    ")"
   ]
  },
  {
   "cell_type": "markdown",
   "id": "f10992fb-4ec3-437e-8984-37b2f79ee2b5",
   "metadata": {},
   "source": [
    "## Create the trainer\n",
    "### Subtask:\n",
    "Instantiate the Hugging Face Trainer with the model, training arguments, and data."
   ]
  },
  {
   "cell_type": "code",
   "execution_count": null,
   "id": "c465e113-6c7a-4670-8a3a-7e89836ca6c4",
   "metadata": {},
   "outputs": [],
   "source": [
    "from transformers import Trainer\n",
    "\n",
    "trainer = Trainer(\n",
    "    model=peft_model,\n",
    "    args=training_args,\n",
    "    train_dataset=train_dataset,\n",
    "    eval_dataset=eval_dataset,\n",
    ")"
   ]
  },
  {
   "cell_type": "markdown",
   "id": "715a596e-5166-4f6e-886d-865ae9e0b9f7",
   "metadata": {},
   "source": [
    "## Train the model\n",
    "### Subtask:\n",
    "Start the fine-tuning process using the prepared data and configuration."
   ]
  },
  {
   "cell_type": "code",
   "execution_count": null,
   "id": "d3c62bbe-093b-4b8b-acca-46a991435c1f",
   "metadata": {},
   "outputs": [],
   "source": [
    "trainer.train()"
   ]
  },
  {
   "cell_type": "markdown",
   "id": "7c92fbe5-dd43-4861-a279-d14caa4683a8",
   "metadata": {},
   "source": [
    "## Save the fine-tuned model\n",
    "### Subtask:\n",
    "Save the fine-tuned model"
   ]
  },
  {
   "cell_type": "code",
   "execution_count": null,
   "id": "725cc8e3-8de5-4acf-b955-ca6dbade55fc",
   "metadata": {},
   "outputs": [],
   "source": [
    "trainer.save_model()"
   ]
  },
  {
   "cell_type": "markdown",
   "id": "52a72a64-b732-4d42-863f-1e32a2370822",
   "metadata": {},
   "source": [
    "## Create the Gradio app\n",
    "### Subtask:\n",
    "Create a Python script that uses Gradio to build a simple UI for the fine-tuned model."
   ]
  },
  {
   "cell_type": "code",
   "execution_count": null,
   "id": "418c7bb1-056e-4468-ad25-574f514b2e13",
   "metadata": {},
   "outputs": [],
   "source": [
    "%%writefile gradio_app.py\n",
    "import gradio as gr\n",
    "from transformers import AutoModelForCausalLM, AutoTokenizer\n",
    "from peft import PeftModel\n",
    "import torch # Import torch\n",
    "\n",
    "# Load the fine-tuned model and tokenizer\n",
    "def load_model(model_path, lora_path):\n",
    "    base_model = AutoModelForCausalLM.from_pretrained(model_path)\n",
    "    model = PeftModel.from_pretrained(base_model, lora_path)\n",
    "    tokenizer = AutoTokenizer.from_pretrained(model_path)\n",
    "    tokenizer.pad_token = tokenizer.eos_token\n",
    "    # Move model to GPU if available\n",
    "    if torch.cuda.is_available():\n",
    "        model = model.to('cuda')\n",
    "    return model, tokenizer\n",
    "\n",
    "model, tokenizer = load_model(\"openai-community/gpt2\", \"./lora_gpt2_finetuned\")\n",
    "\n",
    "# Define the prediction function\n",
    "def generate_text(prompt):\n",
    "    # Move inputs to GPU if available\n",
    "    inputs = tokenizer(prompt, return_tensors=\"pt\")\n",
    "    if torch.cuda.is_available():\n",
    "        inputs = {k: v.to('cuda') for k, v in inputs.items()}\n",
    "\n",
    "    outputs = model.generate(**inputs, max_new_tokens=100, temperature=0.7, do_sample=True)\n",
    "    return tokenizer.decode(outputs[0], skip_special_tokens=True)\n",
    "\n",
    "# Create the Gradio interface\n",
    "iface = gr.Interface(\n",
    "    fn=generate_text,\n",
    "    inputs=gr.Textbox(lines=5, label=\"Enter your prompt\"),\n",
    "    outputs=gr.Textbox(label=\"Generated text\"),\n",
    "    title=\"microGPT\",\n",
    "    description=\"Enter a prompt and microGPT will generate text.\"\n",
    ")\n",
    "\n",
    "# Launch the interface\n",
    "iface.launch(share=True)"
   ]
  },
  {
   "cell_type": "code",
   "execution_count": null,
   "id": "b98507ab-fae4-4ff6-8e39-4ab7d6e5cc54",
   "metadata": {},
   "outputs": [],
   "source": [
    "!python gradio_app.py"
   ]
  }
 ],
 "metadata": {
  "kernelspec": {
   "display_name": "Python 3 (ipykernel)",
   "language": "python",
   "name": "python3"
  },
  "language_info": {
   "codemirror_mode": {
    "name": "ipython",
    "version": 3
   },
   "file_extension": ".py",
   "mimetype": "text/x-python",
   "name": "python",
   "nbconvert_exporter": "python",
   "pygments_lexer": "ipython3",
   "version": "3.13.5"
  }
 },
 "nbformat": 4,
 "nbformat_minor": 5
}
